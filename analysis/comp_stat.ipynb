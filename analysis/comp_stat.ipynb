{
 "cells": [
  {
   "cell_type": "code",
   "execution_count": 2,
   "metadata": {
    "collapsed": true
   },
   "outputs": [],
   "source": [
    "import pandas as pd\n",
    "import os\n",
    "from nltk.corpus import stopwords\n",
    "import nltk.data\n",
    "import logging\n",
    "import time\n",
    "import numpy as np  # Make sure that numpy is imported\n",
    "from gensim.models import Word2Vec\n",
    "from sklearn.cluster import KMeans\n",
    "from sklearn.ensemble import RandomForestClassifier\n",
    "\n",
    "from KaggleWord2VecUtility import KaggleWord2VecUtility\n",
    "import json\n",
    "import cPickle as pickle\n",
    "import re\n",
    "from operator import itemgetter"
   ]
  },
  {
   "cell_type": "code",
   "execution_count": 60,
   "metadata": {
    "collapsed": false
   },
   "outputs": [],
   "source": [
    "# whocalled has 171660 with comments among 555146 records\n",
    "#scrapy_data = '/home/fujun/phone-data/whocalled.json'\n",
    "# callercomplaints has 184245 unique phones with comments among 188130 records\n",
    "data_root = '/home/fujunl/phone-scraping-data/'\n",
    "scrapy_data = data_root + 'callercomplaints.json'\n",
    "phone_stat = dict()\n",
    "caller_type = dict()\n",
    "year_min = 2008\n",
    "time_slots = 12*(2016 - year_min + 1)\n",
    "default_type_dist = {u'Debt Collector': 0, u'Unknown': 0, u'Prank Caller': 0, u'Political Call': 0, u'Telemarketer': 0}\n",
    "with open(scrapy_data) as f:\n",
    "    data = json.load(f)\n",
    "    for record in data:\n",
    "        phone_id = record['phone_id'].split('-')[0]\n",
    "        if phone_id not in phone_stat:\n",
    "            phone_stat[phone_id] = {'n_comments':0, 'time_dist':np.zeros(time_slots), 'type_dist':dict(default_type_dist)}\n",
    "            \n",
    "        for comment in record['phone_comments']:\n",
    "            if comment:\n",
    "                phone_stat[phone_id]['n_comments'] += 1\n",
    "                                   \n",
    "                time_str = re.search('[0-9]+/[0-9]+/[0-9]+', comment['time']).group()\n",
    "                call_time = datetime.strptime(time_str, '%m/%d/%Y')\n",
    "                slot_id = 12*(call_time.year - year_min) + call_time.month - 1\n",
    "                phone_stat[phone_id]['time_dist'][slot_id] += 1\n",
    "                \n",
    "                #year_min = min(year_min, call_time.year)\n",
    "                tmp_type = comment['caller_type']\n",
    "                if tmp_type in caller_type:\n",
    "                    caller_type[tmp_type] += 1\n",
    "                else:\n",
    "                    caller_type[tmp_type] = 1\n",
    "                phone_stat[phone_id]['type_dist'][tmp_type] += 1\n",
    "\n",
    "#with open('callercomplaints_stat.p', 'wb') as fp:\n",
    "    #pickle.dump(phone_stat, fp)"
   ]
  },
  {
   "cell_type": "code",
   "execution_count": 58,
   "metadata": {
    "collapsed": false
   },
   "outputs": [
    {
     "name": "stdout",
     "output_type": "stream",
     "text": [
      "184245\n",
      "5125025384 4141\n",
      "4141\n"
     ]
    }
   ],
   "source": [
    "# load data and do analysis\n",
    "with open('callercomplaints_stat.p', 'rb') as fp:\n",
    "    phone_stat = pickle.load(fp)\n",
    "    \n",
    "phone_ncomments = [(phone_id, phone_stat[phone_id]['n_comments']) for phone_id in phone_stat.keys()]\n",
    "sorted_phones = sorted(phone_ncomments, key=itemgetter(1), reverse=True)\n",
    "print len(sorted_phones)\n",
    "for stat in sorted_phones[:1]:\n",
    "    print stat[0], stat[1]\n",
    "    print phone_stat[stat[0]]['n_comments']"
   ]
  },
  {
   "cell_type": "code",
   "execution_count": 90,
   "metadata": {
    "collapsed": false
   },
   "outputs": [],
   "source": [
    "# whocalled has 171660 with comments among 555146 records\n",
    "#scrapy_data = '/home/fujun/phone-data/whocalled.json'\n",
    "# callercomplaints has 184245 unique phones with comments among 188130 records\n",
    "data_root = '/home/fujunl/phone-scraping-data/'\n",
    "scrapy_data = data_root + 'whocalled.json'\n",
    "phone_stat = dict()\n",
    "year_min = 2005\n",
    "time_slots = 12*(2016 - year_min + 1)\n",
    "location_stat = dict()\n",
    "with open(scrapy_data) as f:\n",
    "    data = json.load(f)\n",
    "    for record in data:\n",
    "        if not record['comments']:\n",
    "            continue\n",
    "        phone_id = record['phone']\n",
    "        if phone_id not in phone_stat:\n",
    "            phone_stat[phone_id] = {'n_comments':0, 'time_dist':np.zeros(time_slots)}\n",
    "        for comment in record['comments']:\n",
    "            if comment:\n",
    "                if comment['location']:\n",
    "                    location = comment['location'][0].strip().lower()\n",
    "                    loc_index = 0\n",
    "                    for m in re.finditer('[0-9]+', location):\n",
    "                        loc_index = max(loc_index, m.span()[1])\n",
    "                    location = location[loc_index:].strip()\n",
    "                    \n",
    "                    #if location1 != location:\n",
    "                        #print location, location1\n",
    "                        \n",
    "                    if location in location_stat:\n",
    "                        location_stat[location] = location_stat[location]+1\n",
    "                    else:\n",
    "                        location_stat[location] = 1\n",
    "                    \n",
    "                phone_stat[phone_id]['n_comments'] += 1\n",
    "                #print str(comment['time'])\n",
    "                call_time = datetime.strptime(comment['time'][0], '%Y-%m-%d %H:%M:%S')\n",
    "                slot_id = 12*(call_time.year - year_min) + call_time.month - 1\n",
    "                phone_stat[phone_id]['time_dist'][slot_id] += 1\n",
    "\n",
    "with open('whocalled_stat.p', 'wb') as fp:\n",
    "    pickle.dump(phone_stat, fp)\n",
    "    \n",
    "with open('whocalled_location_stat.p', 'wb') as fp:\n",
    "    pickle.dump(location_stat, fp)"
   ]
  },
  {
   "cell_type": "code",
   "execution_count": 75,
   "metadata": {
    "collapsed": false
   },
   "outputs": [
    {
     "name": "stdout",
     "output_type": "stream",
     "text": [
      "171660\n",
      "0000000000 1315\n",
      "8009681875 895\n",
      "8592121501 884\n",
      "8004461022 826\n",
      "2013738371 785\n",
      "8009184224 783\n",
      "5132176631 783\n",
      "3239271550 669\n",
      "6136883625 645\n",
      "8006790336 643\n"
     ]
    }
   ],
   "source": [
    "phone_ncomments = [(phone_id, phone_stat[phone_id]['n_comments']) for phone_id in phone_stat.keys()]\n",
    "sorted_phones = sorted(phone_ncomments, key=itemgetter(1), reverse=True)\n",
    "print len(sorted_phones)\n",
    "for stat in sorted_phones[:10]:\n",
    "    print stat[0], stat[1]\n",
    "    #print phone_stat[stat[0]]['n_comments']"
   ]
  },
  {
   "cell_type": "code",
   "execution_count": 99,
   "metadata": {
    "collapsed": false
   },
   "outputs": [
    {
     "name": "stdout",
     "output_type": "stream",
     "text": [
      "11\n"
     ]
    }
   ],
   "source": [
    "print location_stat['ghana']"
   ]
  },
  {
   "cell_type": "code",
   "execution_count": 139,
   "metadata": {
    "collapsed": false
   },
   "outputs": [
    {
     "name": "stdout",
     "output_type": "stream",
     "text": [
      "geo for la not found\n",
      "geo for la found using Los Angeles,California\n",
      "geo for virgin islands, u.s. not found\n",
      "geo for virgin islands, u.s. found using virgin islands\n",
      "geo for nt canada not found\n",
      "geo for nt canada found using Northwest Territories,canada\n",
      "geo for satellite provider not found\n",
      "I don not know how to find satellite provider\n",
      "geo for il not found\n",
      "geo for il found using Illinois\n",
      "224 225\n"
     ]
    }
   ],
   "source": [
    "from geopy.geocoders import Nominatim\n",
    "geolocator = Nominatim()\n",
    "location_geo = dict()\n",
    "sidemap = {'la':'Los Angeles,California', 'nt canada':'Northwest Territories,canada', \n",
    "        'virgin islands, u.s.':'virgin islands', 'il':'Illinois'}\n",
    "for addr in location_stat.keys():\n",
    "    try:\n",
    "        lat_long = geolocator.geocode(addr)\n",
    "    except GeocoderTimedOut as e:\n",
    "        print(\"Error: geocode failed on input {} with message {}\".format(addr, e.msg))\n",
    "    \n",
    "    if not lat_long:\n",
    "        print 'geo for {} not found'.format(addr)\n",
    "        if addr in mymap:\n",
    "            lat_long = geolocator.geocode(mymap[addr])\n",
    "            if not lat_long:\n",
    "                print 'geo for {} NOT found even using {}'.format(addr,mymap[addr])\n",
    "            else:\n",
    "                print 'geo for {} found using {}'.format(addr,mymap[addr])\n",
    "        else:\n",
    "            print 'I don not know how to find {}'.format(addr)\n",
    "    \n",
    "    #print '{}:{}'.format(addr, str(lat_long))\n",
    "    if lat_long:\n",
    "        location_geo[addr] = {'latitude':lat_long.latitude, \n",
    "                              'longitude':lat_long.longitude, 'n_called':location_stat[addr]}\n",
    "\n",
    "print len(location_geo), len(location_stat)\n",
    "with open('location_geo.p', 'wb') as fp:\n",
    "    pickle.dump(location_geo, fp)"
   ]
  },
  {
   "cell_type": "code",
   "execution_count": 16,
   "metadata": {
    "collapsed": false
   },
   "outputs": [],
   "source": [
    "import matplotlib.pyplot as plt\n",
    "from mpl_toolkits.basemap import Basemap\n",
    "with open('location_geo.p', 'rb') as fp:\n",
    "    location_geo = pickle.load(fp)\n",
    "\n",
    "fig = plt.figure()\n",
    "themap = Basemap(projection='gall', resolution = 'l', area_thresh = 100000.0)\n",
    "themap.drawcoastlines()\n",
    "themap.drawcountries()\n",
    "themap.fillcontinents(color = 'gainsboro')\n",
    "themap.drawmapboundary(fill_color='steelblue')\n",
    "\n",
    "lons = [location['longitude'] for location in location_geo.values()]\n",
    "lats = [location['latitude'] for location in location_geo.values()]\n",
    "called = np.array([location['n_called'] for location in location_geo.values()])\n",
    "mark_sz = 3*((called // 10000) + 1)\n",
    "\n",
    "x, y = themap(lons, lats)\n",
    "for i in range(len(x)):\n",
    "    themap.plot(x[i], y[i], 'o', color='Red', markersize=mark_sz[i])\n",
    "\n",
    "plt.title('Geographical Distribution of Scams Received')\n",
    "plt.show()\n",
    "\n",
    "fig.savefig('call.png')"
   ]
  },
  {
   "cell_type": "code",
   "execution_count": 8,
   "metadata": {
    "collapsed": false
   },
   "outputs": [
    {
     "name": "stdout",
     "output_type": "stream",
     "text": [
      "6 1 1.12053571429\n"
     ]
    }
   ],
   "source": [
    "\n",
    "print np.max(mark_sz), np.min(mark_sz),np.mean(mark_sz)"
   ]
  },
  {
   "cell_type": "code",
   "execution_count": null,
   "metadata": {
    "collapsed": true
   },
   "outputs": [],
   "source": []
  }
 ],
 "metadata": {
  "kernelspec": {
   "display_name": "Python 2",
   "language": "python",
   "name": "python2"
  },
  "language_info": {
   "codemirror_mode": {
    "name": "ipython",
    "version": 2
   },
   "file_extension": ".py",
   "mimetype": "text/x-python",
   "name": "python",
   "nbconvert_exporter": "python",
   "pygments_lexer": "ipython2",
   "version": "2.7.11"
  }
 },
 "nbformat": 4,
 "nbformat_minor": 0
}
