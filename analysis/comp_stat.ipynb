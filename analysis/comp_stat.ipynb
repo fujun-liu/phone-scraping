{
 "cells": [
  {
   "cell_type": "code",
   "execution_count": 24,
   "metadata": {
    "collapsed": true
   },
   "outputs": [],
   "source": [
    "import pandas as pd\n",
    "import os\n",
    "from nltk.corpus import stopwords\n",
    "import nltk.data\n",
    "import logging\n",
    "import time\n",
    "from datetime import datetime\n",
    "import numpy as np  # Make sure that numpy is imported\n",
    "from gensim.models import Word2Vec\n",
    "from sklearn.cluster import KMeans\n",
    "from sklearn.ensemble import RandomForestClassifier\n",
    "\n",
    "from KaggleWord2VecUtility import KaggleWord2VecUtility\n",
    "import json\n",
    "import cPickle as pickle\n",
    "import re\n",
    "from operator import itemgetter"
   ]
  },
  {
   "cell_type": "code",
   "execution_count": 166,
   "metadata": {
    "collapsed": false
   },
   "outputs": [
    {
     "name": "stdout",
     "output_type": "stream",
     "text": [
      "184245\n",
      "5125025384 4141\n",
      "5617849844 1409\n",
      "7636576794 1246\n",
      "2519478966 1098\n",
      "3864276893 1061\n",
      "4165231121 964\n",
      "9042594351 959\n",
      "2016215695 944\n",
      "3304922913 899\n",
      "8152357297 876\n"
     ]
    }
   ],
   "source": [
    "# whocalled has 171660 with comments among 555146 records\n",
    "#scrapy_data = '/home/fujun/phone-data/whocalled.json'\n",
    "# callercomplaints has 184245 unique phones with comments among 188130 records\n",
    "data_root = '/home/fujunl/phone-scraping-data/'\n",
    "scrapy_data = data_root + 'callercomplaints.json'\n",
    "phone_stat = dict()\n",
    "caller_type = dict()\n",
    "caller_type_short = {u'Debt Collector': 0, u'Unknown': 1, u'Prank Caller': 2, \n",
    "                     u'Political Call': 3, u'Telemarketer': 4}\n",
    "\n",
    "year_min = 2008\n",
    "time_slots = 12*(2016 - year_min + 1)\n",
    "default_type_dist = {u'Debt Collector': 0, u'Unknown': 0, u'Prank Caller': 0, u'Political Call': 0, u'Telemarketer': 0}\n",
    "\n",
    "caller_type_time = np.zeros((len(caller_type_short), time_slots))\n",
    "with open(scrapy_data) as f:\n",
    "    data = json.load(f)\n",
    "    for record in data:\n",
    "        phone_id = record['phone_id'].split('-')[0]\n",
    "        if phone_id not in phone_stat:\n",
    "            phone_stat[phone_id] = {'n_comments':0, 'time_dist':np.zeros(time_slots), 'type_dist':dict(default_type_dist)}\n",
    "            \n",
    "        for comment in record['phone_comments']:\n",
    "            if comment:\n",
    "                phone_stat[phone_id]['n_comments'] += 1\n",
    "                                   \n",
    "                time_str = re.search('[0-9]+/[0-9]+/[0-9]+', comment['time']).group()\n",
    "                call_time = datetime.strptime(time_str, '%m/%d/%Y')\n",
    "                slot_id = 12*(call_time.year - year_min) + call_time.month - 1\n",
    "                phone_stat[phone_id]['time_dist'][slot_id] += 1\n",
    "                \n",
    "                #year_min = min(year_min, call_time.year)\n",
    "                tmp_type = comment['caller_type']\n",
    "                if tmp_type in caller_type:\n",
    "                    caller_type[tmp_type] += 1\n",
    "                else:\n",
    "                    caller_type[tmp_type] = 1\n",
    "                phone_stat[phone_id]['type_dist'][tmp_type] += 1\n",
    "                \n",
    "                caller_type_time[caller_type_short[tmp_type]][slot_id] += 1\n",
    "\n",
    "#with open('callercomplaints_stat.p', 'wb') as fp:\n",
    "    #pickle.dump(phone_stat, fp)\n",
    "\n",
    "phone_ncomments = [(phone_id, phone_stat[phone_id]['n_comments']) for phone_id in phone_stat.keys()]\n",
    "with open('callercomplaints_ncomments.p', 'wb') as fp:\n",
    "    pickle.dump(phone_ncomments, fp)\n",
    "    \n",
    "sorted_phones = sorted(phone_ncomments, key=itemgetter(1), reverse=True)\n",
    "print len(sorted_phones)\n",
    "for stat in sorted_phones[:10]:\n",
    "    print stat[0], stat[1]"
   ]
  },
  {
   "cell_type": "code",
   "execution_count": 167,
   "metadata": {
    "collapsed": false
   },
   "outputs": [
    {
     "name": "stdout",
     "output_type": "stream",
     "text": [
      "4141 1 1.0\n",
      "1.0 [ 0.69272979  0.19470813  0.04909767  0.05292952  0.0064208   0.00411409\n",
      "  0.        ]\n"
     ]
    }
   ],
   "source": [
    "from collections import Counter\n",
    "num_comments = [phone_stat[phone]['n_comments'] for phone in phone_stat.keys()]\n",
    "\n",
    "print np.max(num_comments),np.min(num_comments),np.median(num_comments)\n",
    "call_counter = Counter(num_comments)\n",
    "ncomplaints_freq = np.array(call_counter.values(),'float')\n",
    "ncomplaints_sum = np.sum(ncomplaints_freq)\n",
    "ncomplaints_prob = ncomplaints_freq/ncomplaints_sum\n",
    "complaints_dist = np.zeros(7,'float')\n",
    "xticks = ['1', '[2,5]','[6,10]','[11,50]','[51,100]','>100']\n",
    "complaints_dist[0] = np.sum(ncomplaints_prob[0])\n",
    "complaints_dist[1] = np.sum(ncomplaints_prob[1:5])\n",
    "complaints_dist[2] = np.sum(ncomplaints_prob[5:10])\n",
    "complaints_dist[3] = np.sum(ncomplaints_prob[10:50])\n",
    "complaints_dist[4] = np.sum(ncomplaints_prob[50:100])\n",
    "complaints_dist[5] = np.sum(ncomplaints_prob[100:])\n",
    "\n",
    "print np.sum(complaints_dist),complaints_dist\n",
    "fig = plt.figure()\n",
    "ax = fig.add_subplot(111)\n",
    "x = np.arange(len(complaints_dist))\n",
    "plt.ylim([0,1.0])\n",
    "plt.step(x,complaints_dist, where='post', linewidth=3.0)\n",
    "for i in range(len(complaints_dist)-1):\n",
    "    ax.text(i+0.2,complaints_dist[i]+0.02, xticks[i])\n",
    "plt.setp(ax.get_xticklabels(), visible=False)\n",
    "plt.yticks(np.arange(0, 1, 0.05))\n",
    "plt.xlabel('# of Complaints')\n",
    "plt.ylabel('Prob. Distribution of Complaint Numbers')\n",
    "plt.title('Phones in callercomplaints.com')\n",
    "plt.show()\n",
    "fig.savefig('callercomplaints_complaint_prob.png')"
   ]
  },
  {
   "cell_type": "code",
   "execution_count": 76,
   "metadata": {
    "collapsed": false
   },
   "outputs": [
    {
     "name": "stdout",
     "output_type": "stream",
     "text": [
      "11\n",
      "23\n",
      "35\n",
      "47\n",
      "59\n",
      "71\n",
      "83\n",
      "95\n",
      "107\n"
     ]
    }
   ],
   "source": [
    "import matplotlib.pyplot as plt\n",
    "\n",
    "caller_type_lst = ['Debt Collector', 'Prank Caller', \n",
    "                     'Political Call','Telemarketer']\n",
    "\n",
    "caller_type_time4 = np.delete(caller_type_time, 1, axis=0)\n",
    "labels = [None] * len(caller_type_lst)\n",
    "x = np.arange(time_slots)\n",
    "cutoff = time_slots-12+2\n",
    "fig = plt.figure()\n",
    "ax = fig.add_subplot(111)\n",
    "for i in range(len(caller_type_lst)):\n",
    "    #print caller_type_lst[i]\n",
    "    labels[i], = plt.plot(x[:cutoff], caller_type_time4[i][:cutoff], '-', linewidth=3.0)\n",
    "\n",
    "curr_year = year_min\n",
    "for i in range(11,time_slots,12):\n",
    "    print i\n",
    "    ax.text(i-10.5, 6000, curr_year)\n",
    "    curr_year += 1\n",
    "    plt.plot([i,i], [0,6000], 'r-', linewidth=3.0)\n",
    "    \n",
    "plt.legend(labels, caller_type_lst)\n",
    "plt.title('Time Distribution of Different Caller Types')\n",
    "plt.show()\n",
    "fig.savefig('call_type_time.png')"
   ]
  },
  {
   "cell_type": "code",
   "execution_count": 72,
   "metadata": {
    "collapsed": false
   },
   "outputs": [
    {
     "name": "stdout",
     "output_type": "stream",
     "text": [
      "11\n",
      "23\n",
      "35\n",
      "47\n",
      "59\n",
      "71\n",
      "83\n",
      "95\n",
      "107\n"
     ]
    }
   ],
   "source": [
    "import matplotlib.pyplot as plt\n",
    "nyears = 2016 - year_min + 1\n",
    "\n",
    "x = np.arange(time_slots)\n",
    "fig = plt.figure()\n",
    "ax = fig.add_subplot(111)\n",
    "cutoff = time_slots-12+2\n",
    "#plt.plot(x[:cutoff], caller_type_time[0][:cutoff], '-', linewidth=3.0)\n",
    "#plt.plot(x[:cutoff], caller_type_time[2][:cutoff], '-', linewidth=3.0)\n",
    "plt.plot(x[:cutoff], caller_type_time[3][:cutoff], '-', linewidth=3.0)\n",
    "# plot year\n",
    "curr_year = year_min\n",
    "for i in range(11,time_slots,12):\n",
    "    print i\n",
    "    ax.text(i-10.5, 300, curr_year)\n",
    "    curr_year += 1\n",
    "    plt.plot([i,i], [0,300], 'r-', linewidth=3.0)\n",
    "plt.title('Time Distribution of Politica Calls')\n",
    "plt.show()\n",
    "fig.savefig('call_type_time_politica.png')"
   ]
  },
  {
   "cell_type": "code",
   "execution_count": 58,
   "metadata": {
    "collapsed": false
   },
   "outputs": [
    {
     "name": "stdout",
     "output_type": "stream",
     "text": [
      "184245\n",
      "5125025384 4141\n",
      "4141\n"
     ]
    }
   ],
   "source": [
    "# load data and do analysis\n",
    "#with open('callercomplaints_stat.p', 'rb') as fp:\n",
    "    #phone_stat = pickle.load(fp)\n",
    "    \n",
    "phone_ncomments = [(phone_id, phone_stat[phone_id]['n_comments']) for phone_id in phone_stat.keys()]\n",
    "sorted_phones = sorted(phone_ncomments, key=itemgetter(1), reverse=True)\n",
    "print len(sorted_phones)\n",
    "for stat in sorted_phones[:1]:\n",
    "    print stat[0], stat[1]\n",
    "    print phone_stat[stat[0]]['n_comments']"
   ]
  },
  {
   "cell_type": "code",
   "execution_count": 164,
   "metadata": {
    "collapsed": false
   },
   "outputs": [
    {
     "name": "stdout",
     "output_type": "stream",
     "text": [
      "171660\n",
      "0000000000 1315\n",
      "8009681875 895\n",
      "8592121501 884\n",
      "8004461022 826\n",
      "2013738371 785\n",
      "8009184224 783\n",
      "5132176631 783\n",
      "3239271550 669\n",
      "6136883625 645\n",
      "8006790336 643\n"
     ]
    }
   ],
   "source": [
    "# whocalled has 171660 with comments among 555146 records\n",
    "#scrapy_data = '/home/fujun/phone-data/whocalled.json'\n",
    "# callercomplaints has 184245 unique phones with comments among 188130 records\n",
    "data_root = '/home/fujunl/phone-scraping-data/'\n",
    "scrapy_data = data_root + 'whocalled.json'\n",
    "phone_stat = dict()\n",
    "year_min = 2005\n",
    "time_slots = 12*(2016 - year_min + 1)\n",
    "location_stat = dict()\n",
    "with open(scrapy_data) as f:\n",
    "    data = json.load(f)\n",
    "    for record in data:\n",
    "        if not record['comments']:\n",
    "            continue\n",
    "        phone_id = record['phone']\n",
    "        if phone_id not in phone_stat:\n",
    "            phone_stat[phone_id] = {'n_comments':0, 'time_dist':np.zeros(time_slots)}\n",
    "        for comment in record['comments']:\n",
    "            if comment:\n",
    "                if comment['location']:\n",
    "                    location = comment['location'][0].strip().lower()\n",
    "                    loc_index = 0\n",
    "                    for m in re.finditer('[0-9]+', location):\n",
    "                        loc_index = max(loc_index, m.span()[1])\n",
    "                    location = location[loc_index:].strip()\n",
    "                    \n",
    "                    #if location1 != location:\n",
    "                        #print location, location1\n",
    "                        \n",
    "                    if location in location_stat:\n",
    "                        location_stat[location] = location_stat[location]+1\n",
    "                    else:\n",
    "                        location_stat[location] = 1\n",
    "                    \n",
    "                phone_stat[phone_id]['n_comments'] += 1\n",
    "                #print str(comment['time'])\n",
    "                call_time = datetime.strptime(comment['time'][0], '%Y-%m-%d %H:%M:%S')\n",
    "                slot_id = 12*(call_time.year - year_min) + call_time.month - 1\n",
    "                phone_stat[phone_id]['time_dist'][slot_id] += 1\n",
    "\n",
    "#with open('whocalled_stat.p', 'wb') as fp:\n",
    "    #pickle.dump(phone_stat, fp)\n",
    "    \n",
    "#with open('whocalled_location_stat.p', 'wb') as fp:\n",
    "    #pickle.dump(location_stat, fp)\n",
    "\n",
    "phone_ncomments = [(phone_id, phone_stat[phone_id]['n_comments']) for phone_id in phone_stat.keys()]\n",
    "with open('whocalled_ncomments.p', 'wb') as fp:\n",
    "    pickle.dump(phone_ncomments, fp)\n",
    "    \n",
    "sorted_phones = sorted(phone_ncomments, key=itemgetter(1), reverse=True)\n",
    "print len(sorted_phones)\n",
    "for stat in sorted_phones[:10]:\n",
    "    print stat[0], stat[1]"
   ]
  },
  {
   "cell_type": "code",
   "execution_count": 165,
   "metadata": {
    "collapsed": false
   },
   "outputs": [
    {
     "name": "stdout",
     "output_type": "stream",
     "text": [
      "1315 1 1.0\n",
      "1.0 [ 0.6665152   0.227036    0.04773389  0.04806012  0.00661773  0.00403705\n",
      "  0.        ]\n"
     ]
    }
   ],
   "source": [
    "from collections import Counter\n",
    "num_comments = [phone_stat[phone]['n_comments'] for phone in phone_stat.keys()]\n",
    "\n",
    "print np.max(num_comments),np.min(num_comments),np.median(num_comments)\n",
    "call_counter = Counter(num_comments)\n",
    "ncomplaints_freq = np.array(call_counter.values(),'float')\n",
    "ncomplaints_sum = np.sum(ncomplaints_freq)\n",
    "ncomplaints_prob = ncomplaints_freq/ncomplaints_sum\n",
    "complaints_dist = np.zeros(7,'float')\n",
    "xticks = ['1', '[2,5]','[6,10]','[11,50]','[51,100]','>100']\n",
    "complaints_dist[0] = np.sum(ncomplaints_prob[0])\n",
    "complaints_dist[1] = np.sum(ncomplaints_prob[1:5])\n",
    "complaints_dist[2] = np.sum(ncomplaints_prob[5:10])\n",
    "complaints_dist[3] = np.sum(ncomplaints_prob[10:50])\n",
    "complaints_dist[4] = np.sum(ncomplaints_prob[50:100])\n",
    "complaints_dist[5] = np.sum(ncomplaints_prob[100:])\n",
    "\n",
    "print np.sum(complaints_dist),complaints_dist\n",
    "fig = plt.figure()\n",
    "ax = fig.add_subplot(111)\n",
    "x = np.arange(len(complaints_dist))\n",
    "plt.ylim([0,1.0])\n",
    "plt.step(x,complaints_dist, where='post', linewidth=3.0)\n",
    "for i in range(len(complaints_dist)-1):\n",
    "    ax.text(i+0.2,complaints_dist[i]+0.02, xticks[i])\n",
    "plt.setp(ax.get_xticklabels(), visible=False)\n",
    "plt.yticks(np.arange(0, 1, 0.05))\n",
    "plt.xlabel('# of Complaints')\n",
    "plt.ylabel('Prob. Distribution of Complaint Numbers')\n",
    "plt.title('Phones in whocalled.us')\n",
    "plt.show()\n",
    "fig.savefig('whocalled_complaint_prob.png')"
   ]
  },
  {
   "cell_type": "code",
   "execution_count": 75,
   "metadata": {
    "collapsed": false
   },
   "outputs": [
    {
     "name": "stdout",
     "output_type": "stream",
     "text": [
      "171660\n",
      "0000000000 1315\n",
      "8009681875 895\n",
      "8592121501 884\n",
      "8004461022 826\n",
      "2013738371 785\n",
      "8009184224 783\n",
      "5132176631 783\n",
      "3239271550 669\n",
      "6136883625 645\n",
      "8006790336 643\n"
     ]
    }
   ],
   "source": [
    "phone_ncomments = [(phone_id, phone_stat[phone_id]['n_comments']) for phone_id in phone_stat.keys()]\n",
    "sorted_phones = sorted(phone_ncomments, key=itemgetter(1), reverse=True)\n",
    "print len(sorted_phones)\n",
    "for stat in sorted_phones[:10]:\n",
    "    print stat[0], stat[1]\n",
    "    #print phone_stat[stat[0]]['n_comments']"
   ]
  },
  {
   "cell_type": "code",
   "execution_count": 99,
   "metadata": {
    "collapsed": false
   },
   "outputs": [
    {
     "name": "stdout",
     "output_type": "stream",
     "text": [
      "11\n"
     ]
    }
   ],
   "source": [
    "print location_stat['ghana']"
   ]
  },
  {
   "cell_type": "code",
   "execution_count": 139,
   "metadata": {
    "collapsed": false
   },
   "outputs": [
    {
     "name": "stdout",
     "output_type": "stream",
     "text": [
      "geo for la not found\n",
      "geo for la found using Los Angeles,California\n",
      "geo for virgin islands, u.s. not found\n",
      "geo for virgin islands, u.s. found using virgin islands\n",
      "geo for nt canada not found\n",
      "geo for nt canada found using Northwest Territories,canada\n",
      "geo for satellite provider not found\n",
      "I don not know how to find satellite provider\n",
      "geo for il not found\n",
      "geo for il found using Illinois\n",
      "224 225\n"
     ]
    }
   ],
   "source": [
    "from geopy.geocoders import Nominatim\n",
    "geolocator = Nominatim()\n",
    "location_geo = dict()\n",
    "sidemap = {'la':'Los Angeles,California', 'nt canada':'Northwest Territories,canada', \n",
    "        'virgin islands, u.s.':'virgin islands', 'il':'Illinois'}\n",
    "for addr in location_stat.keys():\n",
    "    try:\n",
    "        lat_long = geolocator.geocode(addr)\n",
    "    except GeocoderTimedOut as e:\n",
    "        print(\"Error: geocode failed on input {} with message {}\".format(addr, e.msg))\n",
    "    \n",
    "    if not lat_long:\n",
    "        print 'geo for {} not found'.format(addr)\n",
    "        if addr in mymap:\n",
    "            lat_long = geolocator.geocode(mymap[addr])\n",
    "            if not lat_long:\n",
    "                print 'geo for {} NOT found even using {}'.format(addr,mymap[addr])\n",
    "            else:\n",
    "                print 'geo for {} found using {}'.format(addr,mymap[addr])\n",
    "        else:\n",
    "            print 'I don not know how to find {}'.format(addr)\n",
    "    \n",
    "    #print '{}:{}'.format(addr, str(lat_long))\n",
    "    if lat_long:\n",
    "        location_geo[addr] = {'latitude':lat_long.latitude, \n",
    "                              'longitude':lat_long.longitude, 'n_called':location_stat[addr]}\n",
    "\n",
    "print len(location_geo), len(location_stat)\n",
    "with open('location_geo.p', 'wb') as fp:\n",
    "    pickle.dump(location_geo, fp)"
   ]
  },
  {
   "cell_type": "code",
   "execution_count": 16,
   "metadata": {
    "collapsed": false
   },
   "outputs": [],
   "source": [
    "import matplotlib.pyplot as plt\n",
    "from mpl_toolkits.basemap import Basemap\n",
    "with open('location_geo.p', 'rb') as fp:\n",
    "    location_geo = pickle.load(fp)\n",
    "\n",
    "fig = plt.figure()\n",
    "themap = Basemap(projection='gall', resolution = 'l', area_thresh = 100000.0)\n",
    "themap.drawcoastlines()\n",
    "themap.drawcountries()\n",
    "themap.fillcontinents(color = 'gainsboro')\n",
    "themap.drawmapboundary(fill_color='steelblue')\n",
    "\n",
    "lons = [location['longitude'] for location in location_geo.values()]\n",
    "lats = [location['latitude'] for location in location_geo.values()]\n",
    "called = np.array([location['n_called'] for location in location_geo.values()])\n",
    "mark_sz = 3*((called // 10000) + 1)\n",
    "\n",
    "x, y = themap(lons, lats)\n",
    "for i in range(len(x)):\n",
    "    themap.plot(x[i], y[i], 'o', color='Red', markersize=mark_sz[i])\n",
    "\n",
    "plt.title('Geographical Distribution of Scams Received')\n",
    "plt.show()\n",
    "\n",
    "fig.savefig('call.png')"
   ]
  },
  {
   "cell_type": "code",
   "execution_count": 163,
   "metadata": {
    "collapsed": false
   },
   "outputs": [
    {
     "name": "stdout",
     "output_type": "stream",
     "text": [
      "31045 1608 2 6.0\n",
      "1608 2 6.0\n",
      "0.980641004993 [ 0.29895313  0.19922693  0.14975036  0.24300209  0.04941214  0.04029634\n",
      "  0.        ]\n"
     ]
    }
   ],
   "source": [
    "with open('callercomplaints_ncomments.p', 'rb') as fp:\n",
    "    cc_ncomments = pickle.load(fp)\n",
    "\n",
    "with open('whocalled_ncomments.p', 'rb') as fp:\n",
    "    wc_ncomments = pickle.load(fp)\n",
    "\n",
    "cc_phones = set([entry[0] for entry in cc_ncomments])\n",
    "wc_phones = set([entry[0] for entry in wc_ncomments])\n",
    "\n",
    "cc_dict = dict(cc_ncomments)\n",
    "wc_dict = dict(wc_ncomments)\n",
    "common_phones = cc_phones.intersection(wc_phones)\n",
    "common_phone_comments = np.array([cc_dict[com_ph] + wc_dict[com_ph] for com_ph in common_phones])\n",
    "print len(common_phone_comments), np.max(common_phone_comments),np.min(common_phone_comments), np.median(common_phone_comments)\n",
    "\n",
    "\n",
    "from collections import Counter\n",
    "num_comments = common_phone_comments\n",
    "\n",
    "print np.max(num_comments),np.min(num_comments),np.median(num_comments)\n",
    "call_counter = Counter(num_comments)\n",
    "ncomplaints_freq = np.array(call_counter.values(),'float')\n",
    "ncomplaints_sum = np.sum(ncomplaints_freq)\n",
    "ncomplaints_prob = ncomplaints_freq/ncomplaints_sum\n",
    "complaints_dist = np.zeros(7,'float')\n",
    "xticks = ['2', '[3,5]','[6,10]','[11,50]','[51,100]','>100']\n",
    "complaints_dist[0] = np.sum(ncomplaints_prob[0])\n",
    "complaints_dist[1] = np.sum(ncomplaints_prob[1:4])\n",
    "complaints_dist[2] = np.sum(ncomplaints_prob[4:9])\n",
    "complaints_dist[3] = np.sum(ncomplaints_prob[10:50])\n",
    "complaints_dist[4] = np.sum(ncomplaints_prob[50:100])\n",
    "complaints_dist[5] = np.sum(ncomplaints_prob[100:])\n",
    "\n",
    "print np.sum(complaints_dist),complaints_dist\n",
    "fig = plt.figure()\n",
    "ax = fig.add_subplot(111)\n",
    "x = np.arange(len(complaints_dist))\n",
    "plt.ylim([0,1.0])\n",
    "plt.step(x,complaints_dist, where='post', linewidth=3.0)\n",
    "for i in range(len(complaints_dist)-1):\n",
    "    ax.text(i+0.2,complaints_dist[i]+0.02, xticks[i])\n",
    "plt.setp(ax.get_xticklabels(), visible=False)\n",
    "plt.yticks(np.arange(0, 1, 0.05))\n",
    "plt.xlabel('# of Complaints')\n",
    "plt.ylabel('Prob. Distribution of Complaint Numbers')\n",
    "plt.title('Phones in Both Dataset')\n",
    "plt.show()\n",
    "fig.savefig('common_complaint_prob.png')"
   ]
  },
  {
   "cell_type": "code",
   "execution_count": null,
   "metadata": {
    "collapsed": true
   },
   "outputs": [],
   "source": []
  }
 ],
 "metadata": {
  "kernelspec": {
   "display_name": "Python 2",
   "language": "python",
   "name": "python2"
  },
  "language_info": {
   "codemirror_mode": {
    "name": "ipython",
    "version": 2
   },
   "file_extension": ".py",
   "mimetype": "text/x-python",
   "name": "python",
   "nbconvert_exporter": "python",
   "pygments_lexer": "ipython2",
   "version": "2.7.11"
  }
 },
 "nbformat": 4,
 "nbformat_minor": 0
}
