{
 "cells": [
  {
   "cell_type": "code",
   "execution_count": 10,
   "metadata": {
    "collapsed": false
   },
   "outputs": [],
   "source": [
    "import json\n",
    "data_root = '/home/fujunl/phone-scraping-data/'"
   ]
  },
  {
   "cell_type": "code",
   "execution_count": 17,
   "metadata": {
    "collapsed": false
   },
   "outputs": [
    {
     "name": "stdout",
     "output_type": "stream",
     "text": [
      "188130 184245\n"
     ]
    }
   ],
   "source": [
    "# whocalled has 171660 with comments among 555146 records\n",
    "#scrapy_data = '/home/fujun/phone-data/whocalled.json'\n",
    "# callercomplaints has 184245 unique phones with comments among 188130 records\n",
    "phone_comments = {}\n",
    "scrapy_data = data_root + 'callercomplaints.json'\n",
    "\n",
    "with open(scrapy_data) as f:\n",
    "    data = json.load(f)\n",
    "    for record in data:\n",
    "        phone = record['phone_id'].split('-')[0]\n",
    "        comments = [comment['caller_report'] for comment in record['phone_comments']]\n",
    "        if not comments:\n",
    "            pass\n",
    "        if phone not in phone_comments:\n",
    "            phone_comments[phone] = comments\n",
    "        else:\n",
    "            phone_comments[phone].append(comments)\n",
    "\n",
    "print len(data), len(phone_comments)"
   ]
  },
  {
   "cell_type": "code",
   "execution_count": 18,
   "metadata": {
    "collapsed": false
   },
   "outputs": [
    {
     "name": "stdout",
     "output_type": "stream",
     "text": [
      "[u'I get at least one call a day, plays music and hangs up.  When I call back, it does not give me a name or number and says \"this mailbox is full.\" Extremely annoying.']\n"
     ]
    }
   ],
   "source": [
    "print phone_comments.values()[0]"
   ]
  },
  {
   "cell_type": "code",
   "execution_count": 3,
   "metadata": {
    "collapsed": false
   },
   "outputs": [
    {
     "name": "stdout",
     "output_type": "stream",
     "text": [
      "188130 184245\n"
     ]
    }
   ],
   "source": [
    "count = 0\n",
    "count_phone = 0\n",
    "phone_set = set()\n",
    "for record in data:\n",
    "    phone_id = record['phone_id'].split('-')[0]\n",
    "    if phone_id not in phone_set:\n",
    "        count_phone += 1\n",
    "        phone_set.add(phone_id)\n",
    "        \n",
    "    if record['phone_comments']:\n",
    "        count += 1\n",
    "print count, count_phone"
   ]
  },
  {
   "cell_type": "code",
   "execution_count": 10,
   "metadata": {
    "collapsed": false
   },
   "outputs": [
    {
     "name": "stdout",
     "output_type": "stream",
     "text": [
      "188130\n"
     ]
    }
   ],
   "source": [
    "print len(data)"
   ]
  },
  {
   "cell_type": "code",
   "execution_count": null,
   "metadata": {
    "collapsed": true
   },
   "outputs": [],
   "source": []
  }
 ],
 "metadata": {
  "kernelspec": {
   "display_name": "Python 2",
   "language": "python",
   "name": "python2"
  },
  "language_info": {
   "codemirror_mode": {
    "name": "ipython",
    "version": 2
   },
   "file_extension": ".py",
   "mimetype": "text/x-python",
   "name": "python",
   "nbconvert_exporter": "python",
   "pygments_lexer": "ipython2",
   "version": "2.7.11"
  }
 },
 "nbformat": 4,
 "nbformat_minor": 0
}
