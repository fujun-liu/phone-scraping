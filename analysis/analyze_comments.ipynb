{
 "cells": [
  {
   "cell_type": "code",
   "execution_count": 150,
   "metadata": {
    "collapsed": true
   },
   "outputs": [],
   "source": [
    "import pandas as pd\n",
    "import os\n",
    "from nltk.corpus import stopwords\n",
    "import nltk.data\n",
    "import logging\n",
    "import time\n",
    "import numpy as np  # Make sure that numpy is imported\n",
    "from gensim.models import Word2Vec\n",
    "from sklearn.cluster import KMeans\n",
    "from sklearn.ensemble import RandomForestClassifier\n",
    "\n",
    "from KaggleWord2VecUtility import KaggleWord2VecUtility\n",
    "import json\n",
    "import sys\n",
    "reload(sys)\n",
    "sys.setdefaultencoding('utf-8')"
   ]
  },
  {
   "cell_type": "code",
   "execution_count": 151,
   "metadata": {
    "collapsed": false,
    "scrolled": true
   },
   "outputs": [],
   "source": [
    "# whocalled has 171660 with comments among 555146 records\n",
    "#scrapy_data = '/home/fujun/phone-data/whocalled.json'\n",
    "# callercomplaints has 184245 unique phones with comments among 188130 records\n",
    "data_root = '/home/fujunl/phone-scraping-data/'\n",
    "phone_comments = {}\n",
    "scrapy_data = data_root + 'callercomplaints.json'\n",
    "with open(scrapy_data) as f:\n",
    "    data = json.load(f)\n",
    "    #data = data[:100]\n",
    "    for record in data:\n",
    "        phone = record['phone_id'].split('-')[0]\n",
    "        \n",
    "        comments = [comment['caller_report'] for comment in record['phone_comments']]\n",
    "        if not comments:\n",
    "            continue\n",
    "            \n",
    "        if phone not in phone_comments:\n",
    "            phone_comments[phone] = comments\n",
    "        else:\n",
    "            phone_comments[phone].extend(comments)\n",
    "\n",
    "print len(data), len(phone_comments)"
   ]
  },
  {
   "cell_type": "code",
   "execution_count": 152,
   "metadata": {
    "collapsed": false
   },
   "outputs": [],
   "source": [
    "num_comments = [len(comments) for comments in phone_comments.values()]\n",
    "print max(num_comments), min(num_comments), np.median(num_comments), np.mean(num_comments)"
   ]
  },
  {
   "cell_type": "code",
   "execution_count": 64,
   "metadata": {
    "collapsed": false
   },
   "outputs": [],
   "source": [
    "tmp = phone_comments.values()[0]\n",
    "print type(tmp[0])\n",
    "print sys.getdefaultencoding()"
   ]
  },
  {
   "cell_type": "code",
   "execution_count": 67,
   "metadata": {
    "collapsed": false
   },
   "outputs": [],
   "source": [
    "# Load the punkt tokenizer\n",
    "tokenizer = nltk.data.load('tokenizers/punkt/english.pickle')\n",
    "comment_sentences = []  # Initialize an empty list of sentences\n",
    "print \"Parsing Comments\"\n",
    "for phone, comments in phone_comments.items():\n",
    "    #print '******* ThiS PhoNE: {} has {} comments **********'.format(phone, len(comments))\n",
    "    for comment in comments:\n",
    "        if not comment:\n",
    "            continue\n",
    "        if comment:\n",
    "            comment_sentences += KaggleWord2VecUtility.review_to_sentences(comment, tokenizer)"
   ]
  },
  {
   "cell_type": "code",
   "execution_count": 69,
   "metadata": {
    "collapsed": false
   },
   "outputs": [],
   "source": [
    "print len(comment_sentences)\n",
    "print comment_sentences[0]"
   ]
  },
  {
   "cell_type": "code",
   "execution_count": 140,
   "metadata": {
    "collapsed": false
   },
   "outputs": [],
   "source": [
    "logging.basicConfig(format='%(asctime)s : %(levelname)s : %(message)s',level=logging.INFO)\n",
    "model_name = \"callercomplaints.wordvec\"\n",
    "\n",
    "# Set values for various parameters\n",
    "num_features = 300    # Word vector dimensionality\n",
    "min_word_count = 10   # Minimum word count\n",
    "num_workers = 4       # Number of threads to run in parallel\n",
    "context = 5          # Context window size\n",
    "downsampling = 1e-3   # Downsample setting for frequent words\n",
    "\n",
    "# Initialize and train the model (this will take some time)\n",
    "print \"Training Word2Vec model...\"\n",
    "model = Word2Vec(comment_sentences, workers=num_workers, size=num_features, \\\n",
    "                 min_count = min_word_count, window = context, sample = downsampling, seed=1)\n",
    "\n",
    "# If you don't plan to train the model any further, calling\n",
    "# init_sims will make the model much more memory-efficient.\n",
    "model.init_sims(replace=True)\n",
    "# It can be helpful to create a meaningful model name and\n",
    "# save the model for later use. You can load it later using Word2Vec.load()\n",
    "\n",
    "model.save(model_name)"
   ]
  },
  {
   "cell_type": "code",
   "execution_count": 141,
   "metadata": {
    "collapsed": false
   },
   "outputs": [],
   "source": [
    "start = time.time() # Start time\n",
    "\n",
    "# Set \"k\" (num_clusters) to be 1/5th of the vocabulary size, or an\n",
    "# average of 5 words per cluster\n",
    "word_vectors = model.syn0\n",
    "num_clusters = word_vectors.shape[0] / 64\n",
    "\n",
    "# Initalize a k-means object and use it to extract centroids\n",
    "print \"Running K means\"\n",
    "kmeans_clustering = KMeans( n_clusters = num_clusters )\n",
    "idx = kmeans_clustering.fit_predict( word_vectors )\n",
    "# Get the end time and print how long the process took\n",
    "end = time.time()\n",
    "elapsed = end - start\n",
    "print \"Time taken for K Means clustering: \", elapsed, \"seconds.\"\n",
    "# Create a Word / Index dictionary, mapping each vocabulary word to\n",
    "# a cluster number\n",
    "word_centroid_map = dict(zip( model.index2word, idx ))"
   ]
  },
  {
   "cell_type": "code",
   "execution_count": 90,
   "metadata": {
    "collapsed": true
   },
   "outputs": [],
   "source": [
    "def create_bag_of_centroids( wordlist, word_centroid_map ):\n",
    "    #\n",
    "    # The number of clusters is equal to the highest cluster index\n",
    "    # in the word / centroid map\n",
    "    num_centroids = max( word_centroid_map.values() ) + 1\n",
    "    #\n",
    "    # Pre-allocate the bag of centroids vector (for speed)\n",
    "    bag_of_centroids = np.zeros( num_centroids, dtype=\"float32\" )\n",
    "    #\n",
    "    # Loop over the words in the review. If the word is in the vocabulary,\n",
    "    # find which cluster it belongs to, and increment that cluster count\n",
    "    # by one\n",
    "    for word in wordlist:\n",
    "        if word in word_centroid_map:\n",
    "            index = word_centroid_map[word]\n",
    "            bag_of_centroids[index] += 1\n",
    "    #\n",
    "    # Return the \"bag of centroids\"\n",
    "    return bag_of_centroids"
   ]
  },
  {
   "cell_type": "code",
   "execution_count": 147,
   "metadata": {
    "collapsed": false
   },
   "outputs": [],
   "source": [
    "# Pre-allocate an array for the training set bags of centroids (for speed)\n",
    "phone_ids = phone_comments.keys()\n",
    "phone_feats = np.zeros( (len(phone_ids), num_clusters), dtype=\"float32\" )\n",
    "for i, phone_id in enumerate(phone_ids):\n",
    "    feat = np.zeros(num_clusters, dtype=\"float32\")\n",
    "    count = 0\n",
    "    for comment in phone_comments[phone_id]:\n",
    "        if not comment:\n",
    "            continue\n",
    "        count += 1\n",
    "        clean_comment = KaggleWord2VecUtility.review_to_wordlist(comment,remove_stopwords=True )\n",
    "        feat += create_bag_of_centroids(clean_comment, word_centroid_map)\n",
    "    if count:\n",
    "        feat = np.divide(feat, count)\n",
    "    phone_feats[i] = feat"
   ]
  },
  {
   "cell_type": "code",
   "execution_count": 143,
   "metadata": {
    "collapsed": true
   },
   "outputs": [],
   "source": [
    "print phone_feats.shape"
   ]
  },
  {
   "cell_type": "code",
   "execution_count": 148,
   "metadata": {
    "collapsed": false
   },
   "outputs": [],
   "source": [
    "from sklearn.decomposition import PCA as sklearnPCA\n",
    "\n",
    "#phone_feats = phone_feats[10:,:]\n",
    "sklearn_pca = sklearnPCA(n_components=2)\n",
    "sklearn_transf = sklearn_pca.fit_transform(phone_feats)\n"
   ]
  },
  {
   "cell_type": "code",
   "execution_count": 149,
   "metadata": {
    "collapsed": false
   },
   "outputs": [
    {
     "data": {
      "image/png": "[encoded data removed]",
      "text/plain": [
       "<matplotlib.figure.Figure at 0x7ff0ad752b50>"
      ]
     },
     "metadata": {},
     "output_type": "display_data"
    }
   ],
   "source": [
    "%pylab inline\n",
    "from matplotlib import pyplot as plt\n",
    "print sklearn_transf.shape\n",
    "plt.plot(sklearn_transf[:,0],sklearn_transf[:,1], 'o')\n",
    "\n",
    "plt.xlabel('x_values')\n",
    "plt.ylabel('y_values')\n",
    "plt.legend()\n",
    "plt.title('Transformed samples with class labels from matplotlib.mlab.PCA()')\n",
    "\n",
    "plt.show()"
   ]
  },
  {
   "cell_type": "code",
   "execution_count": 146,
   "metadata": {
    "collapsed": true
   },
   "outputs": [],
   "source": [
    "print sklearn_transf.shape\n",
    "print sklearn_transf[0:20,:]\n",
    "print phone_feats[0:20,0:20]"
   ]
  },
  {
   "cell_type": "code",
   "execution_count": 104,
   "metadata": {
    "collapsed": true
   },
   "outputs": [],
   "source": [
    "num_groups = 3\n",
    "kmeans_clustering = KMeans(n_clusters = num_groups)\n",
    "idx = kmeans_clustering.fit_predict(phone_feats)"
   ]
  },
  {
   "cell_type": "code",
   "execution_count": 106,
   "metadata": {
    "collapsed": false
   },
   "outputs": [
    {
     "data": {
      "text/plain": [
       "(None, None, None)"
      ]
     },
     "execution_count": 106,
     "metadata": {},
     "output_type": "execute_result"
    }
   ],
   "source": [
    "print idx[:100]\n",
    "f1,f2,f3 = open(\"type1.txt\", 'w'),open(\"type2.txt\", 'w'),open(\"type3.txt\", 'w')\n",
    "limit = 100\n",
    "cnt = [0,0,0]\n",
    "for gid in idx:\n",
    "    if \n",
    "f1.close(),f2.close(),f3.close()"
   ]
  },
  {
   "cell_type": "code",
   "execution_count": 112,
   "metadata": {
    "collapsed": false
   },
   "outputs": [],
   "source": [
    "print list(idx).index(0)"
   ]
  },
  {
   "cell_type": "code",
   "execution_count": null,
   "metadata": {
    "collapsed": true
   },
   "outputs": [],
   "source": []
  }
 ],
 "metadata": {
  "kernelspec": {
   "display_name": "Python 2",
   "language": "python",
   "name": "python2"
  },
  "language_info": {
   "codemirror_mode": {
    "name": "ipython",
    "version": 2
   },
   "file_extension": ".py",
   "mimetype": "text/x-python",
   "name": "python",
   "nbconvert_exporter": "python",
   "pygments_lexer": "ipython2",
   "version": "2.7.11"
  }
 },
 "nbformat": 4,
 "nbformat_minor": 0
}
